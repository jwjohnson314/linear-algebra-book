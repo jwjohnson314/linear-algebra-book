{
 "cells": [
  {
   "cell_type": "markdown",
   "id": "0ff74dac-a214-4795-8704-94b473303935",
   "metadata": {},
   "source": [
    "# Vector Spaces"
   ]
  },
  {
   "cell_type": "markdown",
   "id": "5b46d766-7c56-469f-88b7-0e419849500f",
   "metadata": {},
   "source": [
    "```{admonition} Definition: Vector Space\n",
    "A *vector space* $V$ is a set satisfying the condition that if $\\mathbf{u}, \\mathbf{v} \\in V$, then any linear combination $c_1\\mathbf{u} + c_2\\mathbf{v} \\in V$ also. As usual, here $c_1$ and $c_2$ represent scalars that for this course are assumed to be real numbers.\n",
    "```"
   ]
  },
  {
   "cell_type": "markdown",
   "id": "cc814a7f-19ea-478b-99d5-d131d6919b01",
   "metadata": {},
   "source": [
    "In the above definition, note that the elements of a vector space $V$ don't necessarily have to be Euclidean vectors; that is, $n\\times 1$ arrays of real numbers. Spaces of Euclidean vectors will be the focus in this book, but there are many mathematical objects that satisfy this definition and lead to interesting vector spaces."
   ]
  },
  {
   "cell_type": "markdown",
   "id": "9c0d71a1-795a-4825-8186-8528b2203492",
   "metadata": {},
   "source": [
    "```{admonition} Definition: $\\mathbb{R}^n$\n",
    "Given a positive integer $n$, we use $\\mathbb{R}^n$ to denote the vector space consisting of Euclidean vectors wisth $n$ components. This space is called $n$-dimensional Euclidean space, but we usually just say 'R-N'.\n",
    "```"
   ]
  },
  {
   "cell_type": "markdown",
   "id": "1de4a463-aaef-4cd2-bd76-049c05b48642",
   "metadata": {},
   "source": [
    "**Example:** \n",
    "\n",
    "$$\n",
    "    \\mathbb{R}^2 = \\{ \\mathbf{v} | \\mathbf{v} = [v_1\\hspace{1em}v_2]^T, v_1, v_2\\text{ are real numbers }\\}.\n",
    "$$\n",
    "\n",
    "This is the vector space corresponding to the $x-y$ plane."
   ]
  },
  {
   "cell_type": "markdown",
   "id": "21accc39-1a79-4382-b3c8-adfadc82adc5",
   "metadata": {},
   "source": [
    "**Example:** $\\mathbb{R} = \\mathbb{R}^1$ is the vector space consisting of vectors with a single real-valued component. This space is indistiguishable from the set of real numbers aside from whether we write brackets around the number or not. Usually we ignore the brackets and just think of $\\mathbb{R}$ as the set of real numbers. "
   ]
  },
  {
   "cell_type": "markdown",
   "id": "f9168dc1-5e60-4373-a0f0-7946926c4df9",
   "metadata": {},
   "source": [
    "The definition of vector space has a couple of important implications:\n",
    "\n",
    "- Most vector spaces will contain infinitely many vectors, because we can form infinitely many linear combinations of any vectors they contain.\n",
    "- The zero vector $\\mathbf{0}$ is contained in every vector space, because given any vector $\\mathbf{v}, 0\\cdot\\mathbf{v} = \\mathbf{0}$ produces the zero vector as a scalar multiple or 'trivial' linear combination of $\\mathbf{v}$. "
   ]
  },
  {
   "cell_type": "markdown",
   "id": "236e81d1-09fc-4538-806b-c2275ade7fac",
   "metadata": {},
   "source": [
    "Furthermore, many vector spaces exist that are not Euclidean; in fact, much of mathematics is done in vector spaces of one sort or another.  "
   ]
  },
  {
   "cell_type": "markdown",
   "id": "3b6b646e-080a-4bed-9ed6-64e209969265",
   "metadata": {},
   "source": [
    "**Example:** Let $\\mathcal{F} = \\{f:\\mathbb{R}\\to\\mathbb{R}\\}$ (that is, the set of all real-valued functions). This is a vector space, because given any two real-valued functions $f(x), g(x) \\in \\mathcal{F}$ and scalars $c_1, c_2$, the linear combination $c_1f(x) = c_2g(x)$ is also a real-valued function and thus a member of $\\mathcal{F}$."
   ]
  },
  {
   "cell_type": "markdown",
   "id": "23561dfa-1d25-499c-b632-99682587ae83",
   "metadata": {},
   "source": [
    "```{admonition} Definition: Subspace\n",
    "$S$ is a *subspace* of a vector space $V$ if $S$ is a subset of $V$ and if $\\mathbf{s}_1, \\mathbf{s}_2 \\in S$, then any linear combination $c_1\\mathbf{s}_1 + c_2\\mathbf{s}_2 \\in V$ also.\n",
    "```"
   ]
  },
  {
   "cell_type": "markdown",
   "id": "1e3c2f94-c7e5-4db8-81ca-2ae4f1833401",
   "metadata": {},
   "source": [
    "**Example, continued:** Let $\\mathcal{P}_2 = \\{p:\\mathbb{R}\\to\\mathbb{R} | p\\text{ is a polynomial of degree at most 2}\\}$. This set is a subspace of the vector space $\\mathcal{F}$ from the previous example. (Verify that $\\mathcal{P}_2$ is closed under linear combination as an exercise!)"
   ]
  },
  {
   "cell_type": "markdown",
   "id": "f1d42020-db80-44da-b560-3868705f0246",
   "metadata": {},
   "source": [
    "## Spans and Bases"
   ]
  },
  {
   "cell_type": "markdown",
   "id": "2d80024f-46f8-4ce4-9313-3c8826f7451f",
   "metadata": {},
   "source": [
    "The examples given above define vector spaces as sets on which some constraints are imposed. This is fine, but defining a vector space this way (a) require us to verify somewhat tediously that the set does in fact meet the requirements to be a vector space, and (b) doesn't provide much insight into what the vector space really looks like. Another way to specify a vector space is by defining it as the span of a set of vectors: given vectors $\\mathbf{v}_1,\\dots,\\mathbf{v}_k$, the set $V=span(\\mathbf{v}_1,\\dots,\\mathbf{v}_k)$ is by definition the set of all possible linear combinations of $\\mathbf{v}_1,\\dots,\\mathbf{v}_k$, and therefore is necessarily closed under linear combination. "
   ]
  },
  {
   "cell_type": "markdown",
   "id": "322669a4-da64-46a8-baf0-5fe9c9104772",
   "metadata": {},
   "source": [
    "**Example:** Let $V = span([1\\hspace{1em} 0\\hspace{1em} 0]^T, [0\\hspace{1em} 1\\hspace{1em} 0]^T)$. Then $V \\subseteq \\mathbb{R}^3$, but $V\\neq \\mathbb{R}^3$ because no linear combination of the vectors spanning $V$ have a nonzero third component, so their linear combinations cannot have a nonzero third component either. In fact, $V$ corresponds to the $x-y$ plane, a subspace of $\\mathbb{R}^3$ that is equivalent ('isomorphic') to $\\mathbb{R}^2$."
   ]
  },
  {
   "cell_type": "markdown",
   "id": "dd952602-6174-4ff7-add5-e89a50f052d5",
   "metadata": {},
   "source": [
    "Using spans to specify a vector space is an improvement over imposing conditions on a set because there is no need to verify that the span forms a vector space, but it still isn't ideal because a spanning set can contain redundancies. \n",
    "\n",
    "**Example, continued:** The set\n",
    "\n",
    "$$\n",
    "    \\begin{bmatrix}\n",
    "        1 \\\\\n",
    "        -1 \\\\\n",
    "        0\n",
    "    \\end{bmatrix},\n",
    "    \\begin{bmatrix}\n",
    "        1 \\\\\n",
    "        1 \\\\\n",
    "        0\n",
    "    \\end{bmatrix},\n",
    "    \\begin{bmatrix}\n",
    "        1/3 \\\\\n",
    "        0 \\\\\n",
    "        0\n",
    "    \\end{bmatrix}\n",
    "$$\n",
    "\n",
    "spans the same subspace of $\\mathbb{R}^3$ as $V$ in the previous example (the $x-y$ plane). To see that this is the case, note that\n",
    "\n",
    "$$\n",
    "    \\dfrac{1}{2}\n",
    "    \\begin{bmatrix}\n",
    "        1 \\\\\n",
    "        -1 \\\\\n",
    "        0\n",
    "    \\end{bmatrix} + \\dfrac{1}{2}\n",
    "    \\begin{bmatrix}\n",
    "        1 \\\\\n",
    "        1 \\\\\n",
    "        0\n",
    "    \\end{bmatrix} = \n",
    "    \\begin{bmatrix}\n",
    "        1 \\\\\n",
    "        0 \\\\\n",
    "        0\n",
    "    \\end{bmatrix}\n",
    "$$\n",
    "\n",
    "and \n",
    "\n",
    "$$\n",
    "    -\\dfrac{1}{2}\n",
    "    \\begin{bmatrix}\n",
    "        1 \\\\\n",
    "        -1 \\\\\n",
    "        0\n",
    "    \\end{bmatrix} + \\dfrac{1}{2}\n",
    "    \\begin{bmatrix}\n",
    "        1 \\\\\n",
    "        1 \\\\\n",
    "        0\n",
    "    \\end{bmatrix} = \n",
    "    \\begin{bmatrix}\n",
    "        0 \\\\\n",
    "        1 \\\\\n",
    "        0\n",
    "    \\end{bmatrix}\n",
    "$$,\n",
    "\n",
    "so the vectors spanning $V$ are linear combinations of these vectors. Conversely, we can easily produce each of these three vectors as a linear combination of the vectors spanning $V$ (verify this!), so it must be the case that the span of these three vectors equal $V$ also. But then we have two different sets of vectors that span $V$, one set consisting of two vectors and a second set consisting of three vectors. The latter contains a redundancy: the three vectors given are linearly dependent.\n",
    "\n",
    "$$\n",
    "    \\dfrac{1}{3}\n",
    "    \\begin{bmatrix}\n",
    "        1 \\\\\n",
    "        -1 \\\\\n",
    "        0\n",
    "    \\end{bmatrix} + \\dfrac{1}{3}\n",
    "    \\begin{bmatrix}\n",
    "        1 \\\\\n",
    "        1 \\\\\n",
    "        0\n",
    "    \\end{bmatrix} = \n",
    "    \\begin{bmatrix}\n",
    "        2/3 \\\\\n",
    "        0 \\\\\n",
    "        0\n",
    "    \\end{bmatrix}\n",
    "$$"
   ]
  },
  {
   "cell_type": "code",
   "execution_count": null,
   "id": "644b9026-aea4-4ebe-8b5b-0d6978be0f36",
   "metadata": {},
   "outputs": [],
   "source": []
  },
  {
   "cell_type": "code",
   "execution_count": null,
   "id": "d0061ff8-e7fe-4938-80b7-c8aed256b53c",
   "metadata": {},
   "outputs": [],
   "source": []
  }
 ],
 "metadata": {
  "kernelspec": {
   "display_name": "Python 3 (ipykernel)",
   "language": "python",
   "name": "python3"
  },
  "language_info": {
   "codemirror_mode": {
    "name": "ipython",
    "version": 3
   },
   "file_extension": ".py",
   "mimetype": "text/x-python",
   "name": "python",
   "nbconvert_exporter": "python",
   "pygments_lexer": "ipython3",
   "version": "3.13.5"
  }
 },
 "nbformat": 4,
 "nbformat_minor": 5
}
