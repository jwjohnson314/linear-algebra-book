{
 "cells": [
  {
   "cell_type": "markdown",
   "id": "2e427f4d-b002-4aca-9425-7f370fd9beab",
   "metadata": {},
   "source": [
    "# Computation"
   ]
  },
  {
   "cell_type": "markdown",
   "id": "8da7e587-eac1-4c71-9122-00e1c83baecb",
   "metadata": {},
   "source": [
    "Linear algebra in practice is done using software, as the number of computations required for even basic operations is prohibitive for working by hand. We are going to focus on two aspects of computation in linear algebra: *time complexity* and *numerical stability*. "
   ]
  },
  {
   "cell_type": "markdown",
   "id": "292ae7b7-8664-4aa7-ae2b-29be91b71d0f",
   "metadata": {},
   "source": [
    "## Time Complexity\n",
    "\n",
    "Every mathematical operation we perform entails computational costs. In order to perform the computation, we must invest time and computational resources. For small examples like those illustrated in previous chapters, the computational costs are negligible, but most real-world use of linear algebra is not like that. At the time of this writing, widely used machine learning or AI tools perform extensive computations - primarily matrix-matrix or matrix-vector multiplies - with matrices containing millions to billions of components. The computational costs of such operations can be amortized only to a degree through parallelization, and the computational cost is always a consideration when actually using linear algebra; indeed, there are many important ideas and algorithms from linear algebra that simply aren't used because the costs are just too high. "
   ]
  },
  {
   "cell_type": "markdown",
   "id": "6d091a01-c0c7-4bee-9c5c-5941e4adf2b9",
   "metadata": {},
   "source": [
    "```{admonition} Definition: Big-O notation\n",
    "We say '$f(x)$ is on the order of $g(x)$' and write $f(x) = \\mathcal{O}(g(x))$ as $x\\to\\infty$ if there exist constants $M, x_0$ such that $|f(x)| \\leq M|g(x)|$ for all $x \\geq x_0$.\n",
    "```"
   ]
  },
  {
   "cell_type": "markdown",
   "id": "d96bfcd7-c34d-4f73-b490-155bf384ff96",
   "metadata": {},
   "source": [
    "big-O notation is typically used when one is interested in describing the growth rate of a function; that is, what happens in a general sense as the input grows large. It is not appropriate when we are looking for exactness, and it is important to recognize that big-O notation is a way of simply giving an upper bound on the growth rate of a function, and that upper bound is not necessarily the *least* upper bound."
   ]
  },
  {
   "cell_type": "markdown",
   "id": "3b92508a-a65d-4b78-bf40-209353b041ae",
   "metadata": {},
   "source": [
    "**Example:** Suppose that $f(x) = 3x^3 - 270x^2 + 121234x + 9999$. Then $f(x) = \\mathcal{O}(x^3)$, because for very large values of $x$, $f(x)$ is not very different than $3x^3$, and in particular, $|f(x)| \\leq 3|x^3|$ for large enough $x$. On the other hand, it never equals $3x^3$. Formally, for $x \\geq 1$,\n",
    "\n",
    "$$\n",
    "    \\begin{align*}\n",
    "        |3x^3 - 270x^2 + 121234x + 9999| &\\leq 3x^3 + |-270x^2| + |121234x| + 9999 \\\\\n",
    "        |3x^3 - 270x^2 + 121234x + 9999| &\\leq 3x^3 + 270x^3 + 121234x^3 + 9999x^3 \\\\\n",
    "        |3x^3 - 270x^2 + 121234x + 9999| &\\leq 131,506x^3,\n",
    "    \\end{align*}\n",
    "$$\n",
    "\n",
    "which proves the claim, though note that in fact $M$ can be made smaller than $131,506$; see the computational example below:"
   ]
  },
  {
   "cell_type": "code",
   "execution_count": 1,
   "id": "232bbb61-fc7d-4777-9c6d-a5f9d094f173",
   "metadata": {},
   "outputs": [
    {
     "data": {
      "text/html": [
       "<div>\n",
       "<style scoped>\n",
       "    .dataframe tbody tr th:only-of-type {\n",
       "        vertical-align: middle;\n",
       "    }\n",
       "\n",
       "    .dataframe tbody tr th {\n",
       "        vertical-align: top;\n",
       "    }\n",
       "\n",
       "    .dataframe thead th {\n",
       "        text-align: right;\n",
       "    }\n",
       "</style>\n",
       "<table border=\"1\" class=\"dataframe\">\n",
       "  <thead>\n",
       "    <tr style=\"text-align: right;\">\n",
       "      <th></th>\n",
       "      <th>x</th>\n",
       "      <th>cubic(x)</th>\n",
       "      <th>$3x^3$</th>\n",
       "    </tr>\n",
       "  </thead>\n",
       "  <tbody>\n",
       "    <tr>\n",
       "      <th>0</th>\n",
       "      <td>1.0</td>\n",
       "      <td>1.309660e+05</td>\n",
       "      <td>3.000000e+00</td>\n",
       "    </tr>\n",
       "    <tr>\n",
       "      <th>1</th>\n",
       "      <td>10000000.9</td>\n",
       "      <td>2.999974e+21</td>\n",
       "      <td>3.000001e+21</td>\n",
       "    </tr>\n",
       "    <tr>\n",
       "      <th>2</th>\n",
       "      <td>20000000.8</td>\n",
       "      <td>2.399989e+22</td>\n",
       "      <td>2.400000e+22</td>\n",
       "    </tr>\n",
       "    <tr>\n",
       "      <th>3</th>\n",
       "      <td>30000000.7</td>\n",
       "      <td>8.099976e+22</td>\n",
       "      <td>8.100001e+22</td>\n",
       "    </tr>\n",
       "    <tr>\n",
       "      <th>4</th>\n",
       "      <td>40000000.6</td>\n",
       "      <td>1.919996e+23</td>\n",
       "      <td>1.920000e+23</td>\n",
       "    </tr>\n",
       "    <tr>\n",
       "      <th>5</th>\n",
       "      <td>50000000.5</td>\n",
       "      <td>3.749993e+23</td>\n",
       "      <td>3.750000e+23</td>\n",
       "    </tr>\n",
       "    <tr>\n",
       "      <th>6</th>\n",
       "      <td>60000000.4</td>\n",
       "      <td>6.479990e+23</td>\n",
       "      <td>6.480000e+23</td>\n",
       "    </tr>\n",
       "    <tr>\n",
       "      <th>7</th>\n",
       "      <td>70000000.3</td>\n",
       "      <td>1.028999e+24</td>\n",
       "      <td>1.029000e+24</td>\n",
       "    </tr>\n",
       "    <tr>\n",
       "      <th>8</th>\n",
       "      <td>80000000.2</td>\n",
       "      <td>1.535998e+24</td>\n",
       "      <td>1.536000e+24</td>\n",
       "    </tr>\n",
       "    <tr>\n",
       "      <th>9</th>\n",
       "      <td>90000000.1</td>\n",
       "      <td>2.186998e+24</td>\n",
       "      <td>2.187000e+24</td>\n",
       "    </tr>\n",
       "    <tr>\n",
       "      <th>10</th>\n",
       "      <td>100000000.0</td>\n",
       "      <td>2.999997e+24</td>\n",
       "      <td>3.000000e+24</td>\n",
       "    </tr>\n",
       "  </tbody>\n",
       "</table>\n",
       "</div>"
      ],
      "text/plain": [
       "              x      cubic(x)        $3x^3$\n",
       "0           1.0  1.309660e+05  3.000000e+00\n",
       "1    10000000.9  2.999974e+21  3.000001e+21\n",
       "2    20000000.8  2.399989e+22  2.400000e+22\n",
       "3    30000000.7  8.099976e+22  8.100001e+22\n",
       "4    40000000.6  1.919996e+23  1.920000e+23\n",
       "5    50000000.5  3.749993e+23  3.750000e+23\n",
       "6    60000000.4  6.479990e+23  6.480000e+23\n",
       "7    70000000.3  1.028999e+24  1.029000e+24\n",
       "8    80000000.2  1.535998e+24  1.536000e+24\n",
       "9    90000000.1  2.186998e+24  2.187000e+24\n",
       "10  100000000.0  2.999997e+24  3.000000e+24"
      ]
     },
     "execution_count": 1,
     "metadata": {},
     "output_type": "execute_result"
    }
   ],
   "source": [
    "import numpy as np\n",
    "import pandas as pd\n",
    "\n",
    "def cubic(x: float) -> float:\n",
    "    return 3 * x**3 - 270 * x**2 + 121234 * x + 9999\n",
    "\n",
    "arr = np.empty(shape=(11, 3))\n",
    "for i, x in enumerate(np.linspace(1, 100000000, 11)):\n",
    "    arr[i,:] = [x, cubic(x), 3*x**3]\n",
    "\n",
    "df = pd.DataFrame(arr)\n",
    "df.columns=['x', 'cubic(x)', '$3x^3$']\n",
    "df"
   ]
  },
  {
   "cell_type": "markdown",
   "id": "61b151f5-4b94-4cb5-9e7d-404bbf5c64d6",
   "metadata": {},
   "source": [
    "When using big-O notation to discuss algorithms for computation, we typically have in mind a function $f(x)$ where the input size is the independent variable $x$, and the output of $f$ is the runtime of the algorithm. In this context, there is an implicit assumption that $x$ is a positive integer and the outputs of $f$ and $g$ are nonnegative real numbers."
   ]
  },
  {
   "cell_type": "markdown",
   "id": "30964ed5-2466-4f4f-83d9-253665a7366a",
   "metadata": {},
   "source": [
    "```{admonition} Definition: Time Complexity\n",
    " The *time complexity* of an algorithm is the number of elementary operations needed to perform the algorithm.\n",
    " ```"
   ]
  },
  {
   "cell_type": "markdown",
   "id": "671c22c3-a969-461d-b0da-014f9c0050f5",
   "metadata": {},
   "source": [
    "The above definition has a number of implicit assumptions, the most important one for us being the assumption that each elementary operation takes an equal fixed amount of time (this is sometimes called the *unit cost* model of computation). In practice this is not true; on modern processors it is estimated that multiplication takes 3-6 times longer than addition. For this reason, we will often count multiplication operations and addition operations separately when analyzing algorithms that involve both, and may even choose to focus only on multiplications at the expense of additions from time to time."
   ]
  },
  {
   "cell_type": "markdown",
   "id": "f53afc6c-41d6-4b80-bd32-a88d11158f1d",
   "metadata": {},
   "source": [
    "## Comparing Orders\n",
    "\n",
    "Suppose that we want to add together positive integers from $1$ to $n$. There are two common ways to do this. One is the obvious way: $\\sum_{i=1}^n i = 1 + 2 + \\cdots + (n-1) + n$. The other is to use the formula $\\sum_{i=1}^n i = n(n+1)/2$. The first is $\\mathcal{O}(n)$, while the second is $\\mathcal{O}(1)$. In fact, we can time these two approaches here to see the difference here:"
   ]
  },
  {
   "cell_type": "code",
   "execution_count": 2,
   "id": "87d12465-f6d8-455f-8d8e-f4a09e1709a1",
   "metadata": {},
   "outputs": [
    {
     "name": "stdout",
     "output_type": "stream",
     "text": [
      "3.87 ms ± 337 μs per loop (mean ± std. dev. of 7 runs, 100 loops each)\n"
     ]
    }
   ],
   "source": [
    "%%timeit\n",
    "\n",
    "sum = 0\n",
    "for i in range(100000):\n",
    "    sum += i"
   ]
  },
  {
   "cell_type": "code",
   "execution_count": 3,
   "id": "a5a0d1a1-11c1-4c90-9c72-1a412ad0de72",
   "metadata": {},
   "outputs": [
    {
     "name": "stdout",
     "output_type": "stream",
     "text": [
      "5.32 ns ± 0.098 ns per loop (mean ± std. dev. of 7 runs, 100,000,000 loops each)\n"
     ]
    }
   ],
   "source": [
    "%%timeit\n",
    "\n",
    "100000*(100000+1)/2\n"
   ]
  },
  {
   "cell_type": "markdown",
   "id": "32ad3830-109f-4eaf-a223-cc614c6ae4f3",
   "metadata": {},
   "source": [
    "The second approach is much faster than the first, but the really important thing to note here is that the second approach takes approximately as long (there is some variability that can't be controlled) regardless of how many integers we happen to be adding up, while the first increases in time proportional to the number of integers being added up:"
   ]
  },
  {
   "cell_type": "code",
   "execution_count": 4,
   "id": "bdc18a1f-3d7d-41ce-a439-b4a8c874ea47",
   "metadata": {},
   "outputs": [
    {
     "ename": "KeyboardInterrupt",
     "evalue": "",
     "output_type": "error",
     "traceback": [
      "\u001b[0;31m---------------------------------------------------------------------------\u001b[0m",
      "\u001b[0;31mKeyboardInterrupt\u001b[0m                         Traceback (most recent call last)",
      "Cell \u001b[0;32mIn[4], line 1\u001b[0m\n\u001b[0;32m----> 1\u001b[0m get_ipython()\u001b[38;5;241m.\u001b[39mrun_cell_magic(\u001b[38;5;124m'\u001b[39m\u001b[38;5;124mtimeit\u001b[39m\u001b[38;5;124m'\u001b[39m, \u001b[38;5;124m'\u001b[39m\u001b[38;5;124m'\u001b[39m, \u001b[38;5;124m'\u001b[39m\u001b[38;5;130;01m\\n\u001b[39;00m\u001b[38;5;124msum = 0\u001b[39m\u001b[38;5;130;01m\\n\u001b[39;00m\u001b[38;5;124mfor i in range(100000000):\u001b[39m\u001b[38;5;130;01m\\n\u001b[39;00m\u001b[38;5;124m    sum += i\u001b[39m\u001b[38;5;130;01m\\n\u001b[39;00m\u001b[38;5;124m'\u001b[39m)\n",
      "File \u001b[0;32m~/opt/anaconda3/envs/linalg/lib/python3.13/site-packages/IPython/core/interactiveshell.py:2541\u001b[0m, in \u001b[0;36mInteractiveShell.run_cell_magic\u001b[0;34m(self, magic_name, line, cell)\u001b[0m\n\u001b[1;32m   2539\u001b[0m \u001b[38;5;28;01mwith\u001b[39;00m \u001b[38;5;28mself\u001b[39m\u001b[38;5;241m.\u001b[39mbuiltin_trap:\n\u001b[1;32m   2540\u001b[0m     args \u001b[38;5;241m=\u001b[39m (magic_arg_s, cell)\n\u001b[0;32m-> 2541\u001b[0m     result \u001b[38;5;241m=\u001b[39m fn(\u001b[38;5;241m*\u001b[39margs, \u001b[38;5;241m*\u001b[39m\u001b[38;5;241m*\u001b[39mkwargs)\n\u001b[1;32m   2543\u001b[0m \u001b[38;5;66;03m# The code below prevents the output from being displayed\u001b[39;00m\n\u001b[1;32m   2544\u001b[0m \u001b[38;5;66;03m# when using magics with decorator @output_can_be_silenced\u001b[39;00m\n\u001b[1;32m   2545\u001b[0m \u001b[38;5;66;03m# when the last Python token in the expression is a ';'.\u001b[39;00m\n\u001b[1;32m   2546\u001b[0m \u001b[38;5;28;01mif\u001b[39;00m \u001b[38;5;28mgetattr\u001b[39m(fn, magic\u001b[38;5;241m.\u001b[39mMAGIC_OUTPUT_CAN_BE_SILENCED, \u001b[38;5;28;01mFalse\u001b[39;00m):\n",
      "File \u001b[0;32m~/opt/anaconda3/envs/linalg/lib/python3.13/site-packages/IPython/core/magics/execution.py:1199\u001b[0m, in \u001b[0;36mExecutionMagics.timeit\u001b[0;34m(self, line, cell, local_ns)\u001b[0m\n\u001b[1;32m   1196\u001b[0m         \u001b[38;5;28;01mif\u001b[39;00m time_number \u001b[38;5;241m>\u001b[39m\u001b[38;5;241m=\u001b[39m \u001b[38;5;241m0.2\u001b[39m:\n\u001b[1;32m   1197\u001b[0m             \u001b[38;5;28;01mbreak\u001b[39;00m\n\u001b[0;32m-> 1199\u001b[0m all_runs \u001b[38;5;241m=\u001b[39m timer\u001b[38;5;241m.\u001b[39mrepeat(repeat, number)\n\u001b[1;32m   1200\u001b[0m best \u001b[38;5;241m=\u001b[39m \u001b[38;5;28mmin\u001b[39m(all_runs) \u001b[38;5;241m/\u001b[39m number\n\u001b[1;32m   1201\u001b[0m worst \u001b[38;5;241m=\u001b[39m \u001b[38;5;28mmax\u001b[39m(all_runs) \u001b[38;5;241m/\u001b[39m number\n",
      "File \u001b[0;32m~/opt/anaconda3/envs/linalg/lib/python3.13/timeit.py:208\u001b[0m, in \u001b[0;36mTimer.repeat\u001b[0;34m(self, repeat, number)\u001b[0m\n\u001b[1;32m    206\u001b[0m r \u001b[38;5;241m=\u001b[39m []\n\u001b[1;32m    207\u001b[0m \u001b[38;5;28;01mfor\u001b[39;00m i \u001b[38;5;129;01min\u001b[39;00m \u001b[38;5;28mrange\u001b[39m(repeat):\n\u001b[0;32m--> 208\u001b[0m     t \u001b[38;5;241m=\u001b[39m \u001b[38;5;28mself\u001b[39m\u001b[38;5;241m.\u001b[39mtimeit(number)\n\u001b[1;32m    209\u001b[0m     r\u001b[38;5;241m.\u001b[39mappend(t)\n\u001b[1;32m    210\u001b[0m \u001b[38;5;28;01mreturn\u001b[39;00m r\n",
      "File \u001b[0;32m~/opt/anaconda3/envs/linalg/lib/python3.13/site-packages/IPython/core/magics/execution.py:173\u001b[0m, in \u001b[0;36mTimer.timeit\u001b[0;34m(self, number)\u001b[0m\n\u001b[1;32m    171\u001b[0m gc\u001b[38;5;241m.\u001b[39mdisable()\n\u001b[1;32m    172\u001b[0m \u001b[38;5;28;01mtry\u001b[39;00m:\n\u001b[0;32m--> 173\u001b[0m     timing \u001b[38;5;241m=\u001b[39m \u001b[38;5;28mself\u001b[39m\u001b[38;5;241m.\u001b[39minner(it, \u001b[38;5;28mself\u001b[39m\u001b[38;5;241m.\u001b[39mtimer)\n\u001b[1;32m    174\u001b[0m \u001b[38;5;28;01mfinally\u001b[39;00m:\n\u001b[1;32m    175\u001b[0m     \u001b[38;5;28;01mif\u001b[39;00m gcold:\n",
      "File \u001b[0;32m<magic-timeit>:3\u001b[0m, in \u001b[0;36minner\u001b[0;34m(_it, _timer)\u001b[0m\n",
      "\u001b[0;31mKeyboardInterrupt\u001b[0m: "
     ]
    }
   ],
   "source": [
    "%%timeit \n",
    "\n",
    "sum = 0\n",
    "for i in range(100000000):\n",
    "    sum += i"
   ]
  },
  {
   "cell_type": "code",
   "execution_count": 45,
   "id": "e3030d5c-dd40-4bd9-83b4-1719ba241e33",
   "metadata": {},
   "outputs": [
    {
     "name": "stdout",
     "output_type": "stream",
     "text": [
      "6.58 ns ± 0.11 ns per loop (mean ± std. dev. of 7 runs, 100,000,000 loops each)\n"
     ]
    }
   ],
   "source": [
    "%%timeit\n",
    "\n",
    "100000000*(100000000+1)/2\n"
   ]
  },
  {
   "cell_type": "markdown",
   "id": "011f75ea-405a-44fc-a832-41b7a606efec",
   "metadata": {},
   "source": [
    "## Time Complexity of Vector and Matrix Operations"
   ]
  },
  {
   "cell_type": "markdown",
   "id": "5c0745e9-6675-4f39-aa22-e511a4375afb",
   "metadata": {},
   "source": [
    "**Example:** The time complexity of adding two vectors of length $n$ is $n$, because adding the vectors requires $n$ elementary operations, one addition for each component of the new vector. In big-O notation, the time complexity is $\\mathcal{O}(n)$.\n",
    "\n",
    "**Example:** The time complexity of the dot product of two vectors of lenth $n$ is $2n-1$. There are $n$ multiplications to perform, followed by summing the values produced by the multiplication, of which there are $n$. Only $n-1$ additions are required to sum $n$ elements (check this with an example if it isn't obvious to you), therefore the time complexity of the dot product is $n + (n-1) = 2n-1$ or $\\mathcal{O}(n)$."
   ]
  },
  {
   "cell_type": "markdown",
   "id": "01fb03d5-5b9c-4339-b86c-52d7df6f6436",
   "metadata": {},
   "source": []
  }
 ],
 "metadata": {
  "kernelspec": {
   "display_name": "Python 3 (ipykernel)",
   "language": "python",
   "name": "python3"
  },
  "language_info": {
   "codemirror_mode": {
    "name": "ipython",
    "version": 3
   },
   "file_extension": ".py",
   "mimetype": "text/x-python",
   "name": "python",
   "nbconvert_exporter": "python",
   "pygments_lexer": "ipython3",
   "version": "3.13.5"
  }
 },
 "nbformat": 4,
 "nbformat_minor": 5
}