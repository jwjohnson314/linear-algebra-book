{
 "cells": [
  {
   "cell_type": "markdown",
   "id": "5e90aea8-822d-4fb1-b255-a049721178cb",
   "metadata": {},
   "source": [
    "# Linear Algebra with Python"
   ]
  },
  {
   "cell_type": "markdown",
   "id": "2e5cc54a-ed35-4663-a509-0353676db885",
   "metadata": {},
   "source": [
    "Python is a general-purpose programming language with a broad ecosystem of tools for scientific computing. It is widely used for machine learning, applied mathematics, and artificial intelligence. We will use it here to facilitate computations that aren't feasible to perform by hand."
   ]
  },
  {
   "cell_type": "markdown",
   "id": "a748eaab-de47-41ff-907f-96244b47eecd",
   "metadata": {},
   "source": [
    "## Imports"
   ]
  },
  {
   "cell_type": "markdown",
   "id": "059abcae-3e35-4040-8a7c-d56d6e136606",
   "metadata": {},
   "source": [
    "There are two Python libraries that we will start with: the first is NumPy (\"Numeric Python\") and the second is SciPy (\"Scientific Python\"). From the second, we are primarily going to use the linear algebra submodule. As these libraries are outside of base Python, you need to import them to use them. Below, I am importing them, using a conventional abbreviation for NumPy."
   ]
  },
  {
   "cell_type": "code",
   "execution_count": 1,
   "id": "793bdac7-76d9-4cf2-80b0-be3c46c3f7b3",
   "metadata": {},
   "outputs": [],
   "source": [
    "import numpy as np\n",
    "import scipy.linalg as linalg"
   ]
  },
  {
   "cell_type": "markdown",
   "id": "679a792d-2d3c-4e2d-b2e4-1b5e87aafd9c",
   "metadata": {},
   "source": [
    "## NumPy ndarrays\n",
    "\n",
    "NumPy is built around a single object: a multidimensional array object called an ndarray that is a generalization of the matrix definition that we are working with in this course. A matrix as we have defined it is a two-dimensional NumPy ndarray.\n",
    "\n",
    "NumPy does define a matrix object, but its use is not recommended. Here is an example of defining a matrix as an ndarray."
   ]
  },
  {
   "cell_type": "code",
   "execution_count": 2,
   "id": "72f4b1af-d96d-4954-a1be-72248ac6177f",
   "metadata": {},
   "outputs": [
    {
     "name": "stdout",
     "output_type": "stream",
     "text": [
      "[[1 2 3]\n",
      " [4 5 6]]\n"
     ]
    }
   ],
   "source": [
    "A = np.array([[1, 2, 3], [4, 5, 6]])\n",
    "print(A)"
   ]
  },
  {
   "cell_type": "markdown",
   "id": "b3a64184-ac5a-4de0-9423-f4c17456abbe",
   "metadata": {},
   "source": [
    "As you can see, the array is specified as a list of lists. Each of the nested lists corresponds to a row of the array. Indexing the array follows the row-first, column-second convention, but bear in mind that Python uses zero-based indexing!"
   ]
  },
  {
   "cell_type": "code",
   "execution_count": 6,
   "id": "2cc397cf-13ee-4529-a31b-baaaa223e804",
   "metadata": {},
   "outputs": [
    {
     "name": "stdout",
     "output_type": "stream",
     "text": [
      "5 3\n"
     ]
    }
   ],
   "source": [
    "print(A[1, 1], A[0, 2]) "
   ]
  },
  {
   "cell_type": "code",
   "execution_count": 7,
   "id": "6826fcd9-b988-4ce8-bbbf-bb632ccb570c",
   "metadata": {},
   "outputs": [
    {
     "ename": "IndexError",
     "evalue": "index 2 is out of bounds for axis 0 with size 2",
     "output_type": "error",
     "traceback": [
      "\u001b[0;31m---------------------------------------------------------------------------\u001b[0m",
      "\u001b[0;31mIndexError\u001b[0m                                Traceback (most recent call last)",
      "Cell \u001b[0;32mIn[7], line 1\u001b[0m\n\u001b[0;32m----> 1\u001b[0m \u001b[38;5;28mprint\u001b[39m(A[\u001b[38;5;241m2\u001b[39m, \u001b[38;5;241m3\u001b[39m])\n",
      "\u001b[0;31mIndexError\u001b[0m: index 2 is out of bounds for axis 0 with size 2"
     ]
    }
   ],
   "source": [
    "print(A[2, 3])"
   ]
  },
  {
   "cell_type": "markdown",
   "id": "8633ff21-ec8b-4605-96ea-223e2f025187",
   "metadata": {},
   "source": [
    "The error above occurred because I asked for the entry in row two of $A$, but using zero-based indexing there exist only rows 0 and 1 in $A$.\n",
    "\n",
    "Some attributes of a NumPy ndarray differ from usual matrix terminology. For instance, the dimension of an array is its shape:"
   ]
  },
  {
   "cell_type": "code",
   "execution_count": 9,
   "id": "96102015-4658-443d-9557-3cf745ebc9bd",
   "metadata": {},
   "outputs": [
    {
     "data": {
      "text/plain": [
       "(2, 3)"
      ]
     },
     "execution_count": 9,
     "metadata": {},
     "output_type": "execute_result"
    }
   ],
   "source": [
    "A.shape"
   ]
  },
  {
   "cell_type": "markdown",
   "id": "45fb41cc-7a6a-4aef-96a2-e8065e4473a0",
   "metadata": {},
   "source": [
    "Again note that this follows the row first, column second convention. \n",
    "\n",
    "Vectors are NumPy ndarrays also. However, there are a couple of caveats to be aware of when work with them. First, "
   ]
  },
  {
   "cell_type": "code",
   "execution_count": 10,
   "id": "450bc074-bc4c-491c-93d8-83f0d1c939c6",
   "metadata": {},
   "outputs": [],
   "source": [
    "v = np.array([[1], [2], [3]])\n",
    "w = np.array([1, 2, 3])"
   ]
  },
  {
   "cell_type": "code",
   "execution_count": 11,
   "id": "d290a9bf-176f-48ad-9a74-4c2eabe47797",
   "metadata": {},
   "outputs": [
    {
     "data": {
      "text/plain": [
       "array([[1],\n",
       "       [2],\n",
       "       [3]])"
      ]
     },
     "execution_count": 11,
     "metadata": {},
     "output_type": "execute_result"
    }
   ],
   "source": [
    "v"
   ]
  },
  {
   "cell_type": "code",
   "execution_count": 12,
   "id": "59616457-beee-46f0-acfb-9ec2f9b2d317",
   "metadata": {},
   "outputs": [
    {
     "data": {
      "text/plain": [
       "array([1, 2, 3])"
      ]
     },
     "execution_count": 12,
     "metadata": {},
     "output_type": "execute_result"
    }
   ],
   "source": [
    "w"
   ]
  },
  {
   "cell_type": "code",
   "execution_count": 13,
   "id": "606f0f5c-844c-467c-990a-86143c2270c4",
   "metadata": {},
   "outputs": [
    {
     "data": {
      "text/plain": [
       "array([[ True, False, False],\n",
       "       [False,  True, False],\n",
       "       [False, False,  True]])"
      ]
     },
     "execution_count": 13,
     "metadata": {},
     "output_type": "execute_result"
    }
   ],
   "source": [
    "v == w"
   ]
  },
  {
   "cell_type": "code",
   "execution_count": null,
   "id": "d912368c-bbac-406f-8995-2a5ef3c6e62c",
   "metadata": {},
   "outputs": [],
   "source": []
  }
 ],
 "metadata": {
  "kernelspec": {
   "display_name": "Python 3 (ipykernel)",
   "language": "python",
   "name": "python3"
  },
  "language_info": {
   "codemirror_mode": {
    "name": "ipython",
    "version": 3
   },
   "file_extension": ".py",
   "mimetype": "text/x-python",
   "name": "python",
   "nbconvert_exporter": "python",
   "pygments_lexer": "ipython3",
   "version": "3.13.5"
  }
 },
 "nbformat": 4,
 "nbformat_minor": 5
}
