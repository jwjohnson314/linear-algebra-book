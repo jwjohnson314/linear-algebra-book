{
 "cells": [
  {
   "cell_type": "markdown",
   "id": "0ff74dac-a214-4795-8704-94b473303935",
   "metadata": {},
   "source": [
    "# Vector Spaces"
   ]
  },
  {
   "cell_type": "markdown",
   "id": "5b46d766-7c56-469f-88b7-0e419849500f",
   "metadata": {},
   "source": [
    "```{admonition} Definition: Vector Space\n",
    "A *vector space* $V$ is a set satisfying the condition that if $\\mathbf{u}, \\mathbf{v} \\in V$, then any linear combination $c_1\\mathbf{u} + c_2\\mathbf{v} \\in V$ also. As usual, here $c_1$ and $c_2$ represent scalars that for this course are assumed to be real numbers.\n",
    "```"
   ]
  },
  {
   "cell_type": "markdown",
   "id": "cc814a7f-19ea-478b-99d5-d131d6919b01",
   "metadata": {},
   "source": [
    "In the above definition, note that the elements of a vector space $V$ don't necessarily have to be Euclidean vectors; that is, $n\\times 1$ arrays of real numbers. Spaces of Euclidean vectors will be the focus in this book, but there are many mathematical objects that satisfy this definition and lead to interesting vector spaces."
   ]
  },
  {
   "cell_type": "markdown",
   "id": "9c0d71a1-795a-4825-8186-8528b2203492",
   "metadata": {},
   "source": [
    "```{admonition} Definition: $\\mathbb{R}^n$\n",
    "\n",
    "Given a positive integer $n$, we use $\\mathbb{R}^n$ to denote the vector space consisting of Euclidean vectors wisth $n$ components.\n",
    "```"
   ]
  },
  {
   "cell_type": "markdown",
   "id": "1de4a463-aaef-4cd2-bd76-049c05b48642",
   "metadata": {},
   "source": [
    "**Example:** \n",
    "\n",
    "$$\n",
    "    \\mathbb{R}^2 = \\{ \\mathbf{v} | \\mathbf{v} = [v_1\\hspace{1em}v_2]^T, v_1, v_2\\text{ are real numbers }\\}.\n",
    "$$\n",
    "\n",
    "This is the vector space corresponding to the $x-y$ plane."
   ]
  },
  {
   "cell_type": "markdown",
   "id": "21accc39-1a79-4382-b3c8-adfadc82adc5",
   "metadata": {},
   "source": [
    "**Example:** $\\mathbb{R} = \\mathbb{R}^1$ is the vector space consisting of vectors with a single real-valued component. This space is indistiguishable from the set of real numbers aside from whether we write brackets around the number or not. Usually we ignore the brackets and just think of $\\mathbb{R}$ as the set of real numbers. "
   ]
  },
  {
   "cell_type": "markdown",
   "id": "f9168dc1-5e60-4373-a0f0-7946926c4df9",
   "metadata": {},
   "source": [
    "The definition of vector space has a couple of important implications:\n",
    "\n",
    "- Most vector spaces will contain infinitely many vectors, because we can form infinitely many linear combinations of any vectors they contain.\n",
    "- The zero vector $\\mathbf{0}$ is contained in every vector space, because given any vector $\\mathbf{v}, 0\\cdot\\mathbf{v} = \\mathbf{0}$ produces the zero vector as a scalar multiple or 'trivial' linear combination of $\\mathbf{v}$. "
   ]
  },
  {
   "cell_type": "markdown",
   "id": "23561dfa-1d25-499c-b632-99682587ae83",
   "metadata": {},
   "source": [
    "```{admonition} Definition: Subspace\n",
    "\n",
    "$S$ is a *subspace* of a vector space $V$ if $S$ is a subset of $V$ and if $\\mathbf{s}_1, \\mathbf{s}_2 \\in S$, then any linear combination $c_1\\mathbf{s}_1 + c_2\\mathbf{s}_2 \\in V$ also."
   ]
  },
  {
   "cell_type": "markdown",
   "id": "f1d42020-db80-44da-b560-3868705f0246",
   "metadata": {},
   "source": []
  }
 ],
 "metadata": {
  "kernelspec": {
   "display_name": "Python 3 (ipykernel)",
   "language": "python",
   "name": "python3"
  },
  "language_info": {
   "codemirror_mode": {
    "name": "ipython",
    "version": 3
   },
   "file_extension": ".py",
   "mimetype": "text/x-python",
   "name": "python",
   "nbconvert_exporter": "python",
   "pygments_lexer": "ipython3",
   "version": "3.13.5"
  }
 },
 "nbformat": 4,
 "nbformat_minor": 5
}