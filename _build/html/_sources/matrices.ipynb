{
 "cells": [
  {
   "cell_type": "markdown",
   "id": "9c88a3d9-6a08-4318-8d1d-8e120ce7bc52",
   "metadata": {},
   "source": [
    "# Matrices"
   ]
  },
  {
   "cell_type": "markdown",
   "id": "8e2aa6af-6a25-4c88-8e01-04640b1e633a",
   "metadata": {},
   "source": [
    "```{admonition} Definition\n",
    "A *matrix* is a rectangular array of mathematical objects arranged into rows and columns. The plural of matrix is *matrices*.\n",
    "```"
   ]
  },
  {
   "cell_type": "markdown",
   "id": "b9328a82-179a-41b6-a1ab-780ba96a58bc",
   "metadata": {},
   "source": [
    "For the time being, the mathematical objects in these rectangular arrays we call matrices will be (real) numbers, but just as with vectors we want our definitions to be flexible. Our matrices are always finite dimensional; that is, they have only a finite number of rows and columns, though in the future you may encounter matrices with an infinite number of rows and/or columns. "
   ]
  },
  {
   "cell_type": "markdown",
   "id": "c691d16f-1dad-4c7c-a821-84bb155a1494",
   "metadata": {},
   "source": [
    "```{admonition} Notation\n",
    ":class: important\n",
    "**Notation:** Matrices are usually denoted with capital letters from the front of the English alphabet. A matrix $A$ with $m$ rows and $n$ columns is said to be an $m\\times n$ dimensional matrix, and we denote the entry in the $i^{th}$ row and $j^{th}$ column of $A$ as $a_{i,j}$. We always follow a row-first, column-second convention when discussing matrices, and unless we are programming, we use 1-based indexing. \n",
    "```"
   ]
  },
  {
   "cell_type": "markdown",
   "id": "900e8d20-2bff-4d8d-9c8e-bc0464e2f2ea",
   "metadata": {},
   "source": [
    "**Example:**\n",
    "\n",
    "$$\n",
    "    A=\\begin{bmatrix}\n",
    "        1 & 2 & 3 \\\\\n",
    "        4 & 5 & 6 \\\\\n",
    "        7 & 8 & 9 \\\\\n",
    "        0 & 1 & 2\n",
    "      \\end{bmatrix}\n",
    "$$\n",
    "\n",
    "is a $4\\times 3$ matrix: it has 4 rows and 3 columns. The entry in position $2, 3$ is $a_{2,3}=6$. The entry in position $3, 2$ is $a_{3, 2}=8$. "
   ]
  },
  {
   "cell_type": "markdown",
   "id": "3cda6c20-575d-4db5-bfca-f9995f9cace6",
   "metadata": {},
   "source": [
    "As we will see, there are many different ways to think about what such an array of numbers represents. One particularly useful approach is to think of a matrix as a collection of (column) vectors. We use the name of the matrix with a single subscript to denote a specific column vector; the matrix above, for example, consists of the three column vectors\n",
    "\n",
    "$$\n",
    "    A_1 = \\begin{bmatrix}\n",
    "            1 \\\\\n",
    "            4 \\\\\n",
    "            7 \\\\\n",
    "            0\n",
    "          \\end{bmatrix},\n",
    "    A_2 = \\begin{bmatrix}\n",
    "            2 \\\\\n",
    "            5 \\\\\n",
    "            8 \\\\\n",
    "            1\n",
    "          \\end{bmatrix},\\text{ and }\n",
    "    A_3 = \\begin{bmatrix}\n",
    "            3 \\\\\n",
    "            6 \\\\\n",
    "            9 \\\\\n",
    "            2\n",
    "          \\end{bmatrix}.\n",
    "$$        \n",
    "\n",
    "Alternatively, we might think of a vector as a special type of matrix: a matrix with only one column. That is, if a vector $\\mathbf{v}$ has $m$ components, it could just as well be viewed as an $m\\times 1$ matrix. This is a very useful perspective, and the view that we take will depend on the context in which we find ourselves working."
   ]
  },
  {
   "cell_type": "markdown",
   "id": "1dfe5b24-cf53-46af-8399-895a4edcaa3d",
   "metadata": {},
   "source": [
    "## Matrix Arithmetic, Part 1\n",
    "\n",
    "If we think of a matrix as simply a collection of vectors, then the rules for performing many operations on matrices follow immediately: addition, subtraction, and scalar multiplication should be done componentwise, with the caveat that the first two operations are only defined if the matrices being added or subtracted are the same size. Why we might want to do these things, and how we should interpret the results, will have to wait, but at least these initial operations are straightforward."
   ]
  },
  {
   "cell_type": "markdown",
   "id": "571730bc-c1f8-41e8-91bc-4526b5bf03dc",
   "metadata": {},
   "source": [
    "```{admonition} Matrix Addition/Subtraction\n",
    "Given two matrices $A$ and $B$ of the same dimensions $m\\times n$, the matrix $C = A \\pm B$ has in position $i, j$ the entry $c_{i, j} = a_{i, j} \\pm b_{i, j}$.\n",
    "```"
   ]
  },
  {
   "cell_type": "markdown",
   "id": "d973984a-8fd0-4c2b-8be5-c6f60b2f8620",
   "metadata": {},
   "source": [
    "**Example:**\n",
    "\n",
    "$$\n",
    "    \\begin{bmatrix}\n",
    "        1 & 2 & 3 \\\\\n",
    "        0 & 0 & 1\n",
    "    \\end{bmatrix} + \n",
    "    \\begin{bmatrix}\n",
    "        2 & 2 &  -1 \\\\\n",
    "        1 & 11 & -1\n",
    "    \\end{bmatrix} =\n",
    "    \\begin{bmatrix}\n",
    "    1 + 2 & 2 + 2 & 3 + (-1) \\\\\n",
    "    0 + 1 & 0 + 11 & 1 + (-1)\n",
    "    \\end{bmatrix} =\n",
    "    \\begin{bmatrix}\n",
    "        3 & 4 & 2 \\\\\n",
    "        1 & 11 & 0\n",
    "    \\end{bmatrix}.\n",
    "$$\n",
    "\n",
    "**Example:**\n",
    "\n",
    "$$\n",
    "    \\begin{bmatrix}\n",
    "        1 & 2 & 3 \\\\\n",
    "        0 & 0 & 1\n",
    "    \\end{bmatrix} - \n",
    "    \\begin{bmatrix}\n",
    "        2 & 2 &  -1 \\\\\n",
    "        1 & 11 & -1\n",
    "    \\end{bmatrix} =\n",
    "    \\begin{bmatrix}\n",
    "    1 - 2 & 2 - 2 & 3 - (-1) \\\\\n",
    "    0 - 1 & 0 - 11 & 1 - (-1)\n",
    "    \\end{bmatrix} =\n",
    "    \\begin{bmatrix}\n",
    "        -1 & \\hfill0 & 4 \\\\\n",
    "        -1 & -11 & 2\n",
    "    \\end{bmatrix}.\n",
    "$$\n",
    "\n",
    "**Example:**\n",
    "\n",
    "$$\n",
    "    \\begin{bmatrix}\n",
    "        1 & 2 & 3 \\\\\n",
    "        0 & 0 & 1\n",
    "    \\end{bmatrix} + \n",
    "    \\begin{bmatrix}\n",
    "        1 & 1 \\\\\n",
    "        1 & 0\n",
    "    \\end{bmatrix}\n",
    "$$\n",
    "\n",
    "is undefined, because the matrix on the left is $2\\times 3$ while the matrix on the right is $2\\times 2$."
   ]
  },
  {
   "cell_type": "markdown",
   "id": "9e49b18a-3b87-4c91-8d08-55faff28189f",
   "metadata": {},
   "source": [
    "```{admonition} Note\n",
    ":class: important\n",
    "We call $n\\times n$ matrices *square* matrices. They have many important characteristics that distiguish them from their nonsquare counterparts. The matrixe on the right in the example immediately above is a square matrix.\n",
    "```"
   ]
  },
  {
   "cell_type": "markdown",
   "id": "5d80849d-2f73-4684-b510-b8c7e3831dd1",
   "metadata": {},
   "source": [
    "```{admonition} Scalar Multiplication\n",
    "Given a matrix $A$ and a scalar $s$, the entry in position $i, j$ of the matrix $sA$ is $s\\cdot a_{i, j}$.\n",
    "```"
   ]
  },
  {
   "cell_type": "markdown",
   "id": "3756009e-fce3-4753-bab4-946e628bb2d1",
   "metadata": {},
   "source": [
    "**Example:** \n",
    "\n",
    "$$\n",
    "    5\\cdot\n",
    "    \\begin{bmatrix}\n",
    "        1 & 2 & 3 \\\\\n",
    "        0 & 0 & 1\n",
    "    \\end{bmatrix} = \n",
    "    \\begin{bmatrix}\n",
    "        5\\cdot 1 & 5\\cdot 2 & 5\\cdot 3 \\\\\n",
    "        5\\cdot 0 & 5\\cdot 0 & 5\\cdot 1\n",
    "    \\end{bmatrix} = \n",
    "    \\begin{bmatrix}\n",
    "        5 & 10 & 15 \\\\\n",
    "        0 & 0 & 5\n",
    "    \\end{bmatrix}\n",
    "$$."
   ]
  },
  {
   "cell_type": "markdown",
   "id": "e3ac7ee4-b0ba-4577-96fc-de21b083e31f",
   "metadata": {},
   "source": [
    "```{admonition} Transposition\n",
    "Given an $m\\times n$ matrix $A$, the $n\\times m$ matrix $A^T$ whose $i, j^{th}$ entry is $a_{j,i}$ is called the *transpose* of $A$.\n",
    "```"
   ]
  },
  {
   "cell_type": "markdown",
   "id": "b7470abb-0b0f-44b2-9f61-eefaf976dff8",
   "metadata": {},
   "source": [
    "**Example:**\n",
    "\n",
    "Suppose that\n",
    "\n",
    "$$  A =\n",
    "        \\begin{bmatrix}\n",
    "            1 & 2 & 3 \\\\\n",
    "            0 & 0 & 1\n",
    "        \\end{bmatrix}.\n",
    "$$\n",
    "\n",
    "Then\n",
    "\n",
    "$$\n",
    "    A^T = \n",
    "        \\begin{bmatrix}\n",
    "            1 & 0 \\\\\n",
    "            2 & 0 \\\\\n",
    "            3 & 1\n",
    "    \\end{bmatrix}.\n",
    "$$\n",
    "\n",
    "Transposing a matrix turns its rows into columns and vice versa. If we think of a vector as a matrix with only one column, transposing it turns it into a matrix with only one row. We might think of such a matrix as the previously mentioned but not yet studied *row vector*.\n",
    "\n",
    "**Example:**\n",
    "\n",
    "Let \n",
    "\n",
    "$$\n",
    "    \\mathbf{v} =\n",
    "        \\begin{bmatrix}\n",
    "            \\hfill1 \\\\\n",
    "            -1 \\\\\n",
    "            \\hfill3\n",
    "        \\end{bmatrix}.\n",
    "$$\n",
    "\n",
    "Then\n",
    "\n",
    "$$\n",
    "    \\mathbf{v}^T = \n",
    "        \\begin{bmatrix}\n",
    "            1 & -1 & 3\n",
    "        \\end{bmatrix}.\n",
    "$$"
   ]
  },
  {
   "cell_type": "markdown",
   "id": "d5d14580-27c6-4fd5-8a12-ed99b107f28e",
   "metadata": {},
   "source": [
    "## Matrix Arithmetic, Part 2: Linear Systems and Matrix-Vector Multiplication\n",
    "\n",
    "Matrices and vectors show up naturally in linear systems; that is, when one wants to determine where two or more lines (or planes in 3 dimensions, or *hyperplanes* in dimensions higher than 3) intersect. Moreover, their appearance in this context suggests how we might define matrix-vector multiplication."
   ]
  },
  {
   "cell_type": "markdown",
   "id": "acecf0b3-46e5-4974-a9eb-a64ffd51c493",
   "metadata": {},
   "source": [
    "```{admonition} Definition\n",
    "A *linear equation* is an equation that can be written in the form $a_1x_1 + a_2x_2 + \\cdots + a_nx_n = b$, where $b$ and $a_i$ is constant for all $1\\leq i \\leq n$. A linear equation written this way is said to be in *standard form*.\n",
    "```"
   ]
  },
  {
   "cell_type": "markdown",
   "id": "c9310643-0675-4420-a506-002fb70f6b19",
   "metadata": {},
   "source": [
    "**Example:** $y = 3x+2$ is a linear equation, but it is not in standard form. If we move $3x$ from the right side of the equation to the left, it is in standard form: $ -3x + y = 2$.\n",
    "\n",
    "In two dimensions, linear equations are rarely put in standard form until we are confronted with a system of linear equations, because in two dimensions it is easier to plot a line or analyze it in other forms, such as the *slope-intercept* form that began the last example. Here is a linear system:\n",
    "\n",
    "$$\n",
    "    \\begin{alignat}\n",
    "        3x + 2y &= 7 \\\\\n",
    "        x + 4y &= 9\n",
    "    \\end{alignat}\n",
    "$$\n",
    "\n",
    "The connection to matrices starts with linear combinations. Consider the coefficients of $x$ and $y$ as forming vectors. Then the left-hand sides of the equations in the system taken together can be viewed as a linear combination that produces a vector whose components are the left-hand sides of the two equations:\n",
    "\n",
    "$$\n",
    "    x\\begin{bmatrix}\n",
    "        3 \\\\\n",
    "        1\n",
    "    \\end{bmatrix} + \n",
    "    y\\begin{bmatrix}\n",
    "        2 \\\\\n",
    "        4\n",
    "    \\end{bmatrix} =\n",
    "    \\begin{bmatrix}\n",
    "        3x + 2y \\\\\n",
    "        x + 4y\n",
    "    \\end{bmatrix} =\n",
    "    \\begin{bmatrix}\n",
    "        7 \\\\\n",
    "        9\n",
    "    \\end{bmatrix},\n",
    "$$\n",
    "\n",
    "where the scalars in the linear combination are the unknowns $x$ and $y$ and the vectors in the linear combination contain the coeffients of their respective 'scalars'. Of course, this only makes sense if we think of the right-hand sides of the two equations as forming a vector as well, but if we do so, we see that our conditions for equality between vectors give us exactly the system of equations that we started with: the first components must agree (first equation) and the second components must agree (second equation).\n",
    "\n",
    "Now, suppose we call\n",
    "\n",
    "$$\n",
    "    \\mathbf{x} = \\begin{bmatrix}\n",
    "                    x \\\\\n",
    "                    y\n",
    "                 \\end{bmatrix}.\n",
    "$$ \n",
    "\n",
    "Then multiplication of a matrix and a vector can be defined through this linear combination idea."
   ]
  },
  {
   "cell_type": "markdown",
   "id": "b6d56575-4596-4c50-a5c1-cb2b75286768",
   "metadata": {},
   "source": [
    "```{admonition} Definition (*Column method* of matrix multiplication)\n",
    "Given a matrix $A$ and a vector $\\mathbf{v}$, the product $A\\mathbf{v}$ is the linear combination $v_1A_1 + \\cdots + v_nA_n$ (recall that $A_i$ denotes the $i^{th}$ column of $A$). \n",
    "```"
   ]
  },
  {
   "cell_type": "markdown",
   "id": "f1cba3bb-5539-4550-bcb5-a55c91b87a35",
   "metadata": {},
   "source": [
    "```{admonition} Dimensional considerations\n",
    ":class: important\n",
    "Note that the above definition only makes sense if the matrix has the same number of columns as the vector has components. Assuming that is so, the result of the multiplication will have the same number of components as the matrix has rows.\n",
    "```"
   ]
  },
  {
   "cell_type": "markdown",
   "id": "62c01a59-7ce8-4e78-8a98-bdcb3adebe1e",
   "metadata": {},
   "source": [
    "In the context of a linear system in standard form, we construct a matrix from the coefficients of the variables on the left, a vector of unknowns from the variables on the left, and the result of the matrix-vector multiplication is the vector of known quantities on the right-hand sides of the equations. This gives an equation of the form $A\\mathbf{x}=\\mathbf{b}$. In the current example, the left-hand side matrix multiplication looks like this:\n",
    "\n",
    "$$\n",
    "    \\begin{bmatrix}\n",
    "        3 & 2 \\\\\n",
    "        1 & 4\n",
    "    \\end{bmatrix}\\cdot\n",
    "    \\begin{bmatrix}\n",
    "        x \\\\\n",
    "        y\n",
    "    \\end{bmatrix} = \n",
    "        x\\begin{bmatrix}\n",
    "        3 \\\\\n",
    "        1\n",
    "    \\end{bmatrix} + \n",
    "    y\\begin{bmatrix}\n",
    "        2 \\\\\n",
    "        4\n",
    "    \\end{bmatrix} =\n",
    "    \\begin{bmatrix}\n",
    "        3x + 2y \\\\\n",
    "        x + 4y\n",
    "    \\end{bmatrix}.\n",
    "$$\n",
    "\n",
    "Again if we can write the left-hand side of a linear system as a product that results in a vector, then we must write the right-hand side as a vector too: $[7\\hspace{1em}9]^T$. Vector equality only holds when the components are all equal, so the linear system must be equivalent to the matrix-vector equation\n",
    "\n",
    "$$\n",
    "    \\begin{bmatrix}\n",
    "        3 & 2 \\\\\n",
    "        1 & 4\n",
    "    \\end{bmatrix}\\cdot\n",
    "    \\begin{bmatrix}\n",
    "        x \\\\\n",
    "        y\n",
    "    \\end{bmatrix}=\n",
    "    \\begin{bmatrix}\n",
    "        7 \\\\\n",
    "        9\n",
    "    \\end{bmatrix}.\n",
    "$$\n",
    "\n",
    "Our motivation and our previous examples come from linear systems, but it is important to recognize that we have a general-purpose definition at hand, and provided the dimensions align we can multiply matrices and vectors whether they come from linear systems or not. \n",
    "\n",
    "In the next section we will focus on solving linear systems, but for the remainder of this one we turn our attention now to the general properties of matrix-vector multiplication and how they extend to give us matrix-matrix multiplication.\n",
    "\n",
    "First, i|t is important to note that the way we performed matrix-vector multiplication above is not how matrix-vector multiplication is usually performed by hand. It is the right viewpoint for obtaining a deep understanding of why we do matrix-vector multiplication the way we do. By hand, though, it is far more common to do the computation by taking dot products: the dot product of each of the rows of the matrix with the (column) vector being multiplied produces the same result as the linear combination computation described above; that is:"
   ]
  },
  {
   "cell_type": "markdown",
   "id": "2716c17a-7e1b-4a9a-8c37-5c9d74f2b954",
   "metadata": {},
   "source": [
    "```{admonition} Definition (Alternative *row method* of matrix multiplication)\n",
    "Given an $m\\times n$ matrix $A$ and a vector $\\mathbf{x}$ with $n$ components, the product $A\\mathbf{x}$ is the vector with $m$ components whose $i^{th}$ component is the dot product of the $i^{th}$ row of $A$ with $\\mathbf{x}$. \n",
    "```"
   ]
  },
  {
   "cell_type": "markdown",
   "id": "7d4509a9-14ef-4a9d-a08f-595cbb55a0ec",
   "metadata": {},
   "source": [
    "**Example:** (row method)\n",
    "\n",
    "$$\n",
    "    \\begin{bmatrix}\n",
    "        1 & 0 & \\hfill2\\\\\n",
    "        2 & 2 & -3\n",
    "    \\end{bmatrix}\\cdot\n",
    "    \\begin{bmatrix}\n",
    "        1 \\\\\n",
    "        2 \\\\\n",
    "        3\n",
    "    \\end{bmatrix} = \n",
    "    \\begin{bmatrix}\n",
    "        1\\cdot 1 + 0\\cdot 2 + 2\\cdot 3 \\\\\n",
    "        2\\cdot 1 + 2\\cdot 2 -3\\cdot 3\n",
    "    \\end{bmatrix} = \n",
    "    \\begin{bmatrix}\n",
    "        1 + 6 \\\\ \n",
    "        2 + 4 -9\n",
    "    \\end{bmatrix}=\n",
    "    \\begin{bmatrix}\n",
    "        \\hfill7 \\\\ \n",
    "        -3\n",
    "    \\end{bmatrix}.\n",
    "$$\n",
    "\n",
    "Note the dimensions above: the matrix is $2\\times 3$, the vector multiplying the matrix is $3\\times 1$, and the result is a $2\\times 1$ vector.\n",
    "\n",
    "**Example:** \n",
    "\n",
    "$$\n",
    "    \\begin{bmatrix}\n",
    "        1 & 7 \\\\\n",
    "        2 & 5\n",
    "    \\end{bmatrix}\\cdot\n",
    "    \\begin{bmatrix}\n",
    "        \\hfill5 \\\\\n",
    "        -7 \\\\\n",
    "        \\hfill9\n",
    "    \\end{bmatrix}\n",
    "$$\n",
    "\n",
    "is undefined, because the matrix does not have the same number of columns as the vector has components, so the underlying dot product calculations themselves are undefined."
   ]
  },
  {
   "cell_type": "markdown",
   "id": "50658341-85e3-49a8-8795-03f48f540864",
   "metadata": {},
   "source": [
    "```{admonition} Note\n",
    ":class: important\n",
    "We have defined a one-sided operation so far: The discussion above tells us how to calculate $A\\mathbf{x}$ for an appropriately sized matrix $A$ and vector $\\mathbf{x}$, but it does not tell us how to calculate $\\mathbf{x}A$, or even if such an operation is defined.\n",
    "```"
   ]
  },
  {
   "cell_type": "markdown",
   "id": "d90c64e2-c531-4550-96ac-8680af9829cd",
   "metadata": {},
   "source": [
    "## The Dot Product Revisited\n",
    "\n",
    "It was pointed out above that a (column) vector can be viewed as a $m\\times 1$ matrix; so too a row vector could be viewed as a $n\\times 1$ matrix whose 'columns' are vectors containing only a single component. Suppose we have two vectors $\\mathbf{u}$ and $\\mathbf{v}$, each $m\\times 1$. Then $\\mathbf{u}^T$ is a $1\\times m$ matrix, and either the column or row view of matrix-vector multiplication above gives\n",
    "\n",
    "$$\n",
    "    \\mathbf{u}^T\\mathbf{v} = \\left[\\sum_{i=1}^m u_iv_i\\right],\n",
    "$$\n",
    "\n",
    "which is a $1\\times 1$ 'vector' whose sole component is precisely the dot product of $\\mathbf{u}$ and $\\mathbf{v}$. Analagously, \n",
    "\n",
    "$$\n",
    "    \\mathbf{v}^T\\mathbf{u} = \\left[\\sum_{i=1}^m v_iu_i\\right].\n",
    "$$\n",
    "\n",
    "For reasons we will get in to later, we often abuse notation, drop the brackets, and treat $1\\times 1$ vectors as just real numbers. Since the real number in this case is precisely the dot product and the dot notation may be misinterpreted, we often prefer to notate the dot product of two vectors $\\mathbf{u}$ and $\\mathbf{v}$ using the transpose as just described."
   ]
  },
  {
   "cell_type": "markdown",
   "id": "62e862f5-09a5-4921-9505-492204bb9187",
   "metadata": {},
   "source": [
    "```{admonition} Notation\n",
    ":class: important\n",
    "Let $\\mathbf{u}$ and $\\mathbf{v}$ be vectors with $m$ components. Then $\\mathbf{u}\\cdot\\mathbf{v} = \\mathbf{u}^T\\mathbf{v} = \\mathbf{v}^T\\mathbf{u}$.\n",
    "```"
   ]
  },
  {
   "cell_type": "markdown",
   "id": "1c87c4a2-aea5-4554-97c1-d60e9be0f09b",
   "metadata": {},
   "source": [
    "## Matrix Arithmetic, Part 3: Matrix-Matrix Multiplication\n",
    "\n",
    "Multiplication of two matrices is just a slight extension of the matrix-vector multiplication just defined. Suppose we have two matrices $A$ and $B$ and we wish to calculate $AB$. Thinking of $B$ as a collection of column vectors $B_1,\\dots,B_p$, the logical way to do this multiplication then would be to do the matrix vector multiply $AB_i$ for each column $B_i$, $1\\leq i\\leq p$ of $B$. That would result in a new collection of column vectors, which we could organize into a new matrix:\n",
    "\n",
    "$$\n",
    "    AB = A\\left[B_1\\hspace{1em}B_2\\dots B_p\\right] = \\left[AB_1\\hspace{1em}AB_2\\dots AB_p\\right].\n",
    "$$\n",
    "\n",
    "Of course, this requires that $B$ have the same number of rows as $A$ has columns, and results in a matrix with the same number of rows as $A$ and the same number of columns as $B$. It's most common to use the row method for computation here, and the product can be written formulaically as follows:"
   ]
  },
  {
   "cell_type": "markdown",
   "id": "0b7df7ce-fc89-4192-ab6b-c85d1836524c",
   "metadata": {},
   "source": [
    "```{admonition} Definition: (Matrix-matrix multiplication)\n",
    "Let $A$ be an $m\\times n$ matrix and $B$ an $n\\times p$ matrix. The product $AB$ is an $m\\times p$ matrix $C$ such that\n",
    "\n",
    "$$\n",
    "    c_{ij} = \\sum_{k=1}^n a_{ik}b_{kj}.\n",
    "$$\n",
    "```"
   ]
  },
  {
   "cell_type": "markdown",
   "id": "5638e2ed-2120-4466-87b5-bc4589dd8404",
   "metadata": {},
   "source": [
    "That is, $c_{ij}$ is the dot product of the $i^{th}$ row of $A$ with the $j^{th}$ column of $B$.\n",
    "\n",
    "**Example:**\n",
    "\n",
    "Below, a $2\\times 3$ matrix (left) and a $3\\times 2$ matrix (right) are multiplied. The operation is defined because the dimensions align: the matrix on the left has the same number of columns as the matrix on the right has rows. The output will be a $2\\times 2$ matrix. The dot product used to calculate entry $1, 1$ of the result is highlighted: row one from the left is combined with column one on the right. The remaining three entries are calculated similarly.\n",
    "\n",
    "$$\n",
    "    \\begin{bmatrix}\n",
    "        2 & 3 & 4 \\\\\n",
    "        1 & 0 & 0\n",
    "    \\end{bmatrix}\\begin{bmatrix}\n",
    "        7 & \\hfill0 \\\\\n",
    "        6 & -1 \\\\\n",
    "        5 & -2\n",
    "    \\end{bmatrix} = \n",
    "    \\begin{bmatrix}\n",
    "        \\textcolor{blue}{2} & \\textcolor{blue}{3} & \\textcolor{blue}{4} \\\\\n",
    "        1 & 0 & 0\n",
    "    \\end{bmatrix}\\begin{bmatrix}\n",
    "        \\textcolor{orange}{7} & \\hfill0 \\\\\n",
    "        \\textcolor{orange}{6} & -1 \\\\\n",
    "        \\textcolor{orange}{5} & -2\n",
    "    \\end{bmatrix} =\n",
    "    \\begin{bmatrix}\n",
    "        \\textcolor{blue}{2}\\cdot \\textcolor{orange}{7} + \\textcolor{blue}{3}\\cdot \\textcolor{orange}{6} + \\textcolor{blue}{4}\\cdot \\textcolor{orange}{5} & \\\\\n",
    "        &\n",
    "    \\end{bmatrix} = \n",
    "    \\begin{bmatrix}\n",
    "        \\textcolor{blue}{2}\\cdot \\textcolor{orange}{7} + \\textcolor{blue}{3}\\cdot \\textcolor{orange}{6} + \\textcolor{blue}{4}\\cdot \\textcolor{orange}{5} & 2 \\cdot 0 + 3\\cdot (-1) + 4\\cdot (-2) \\\\\n",
    "        1\\cdot 7 + 0\\cdot 6 + 0\\cdot 5 & 1\\cdot 0 + 0\\cdot (-1) + 0\\cdot (-2)\n",
    "    \\end{bmatrix} = \n",
    "    \\begin{bmatrix}\n",
    "        14 + 18 + 20 & 0 - 3 - 8 \\\\\n",
    "        7 + 0 + 0 & 0 + 0 + 0\n",
    "    \\end{bmatrix} = \n",
    "    \\begin{bmatrix}\n",
    "        52 & -11 \\\\\n",
    "        7 & \\hfill 0\n",
    "    \\end{bmatrix}.\n",
    "$$"
   ]
  },
  {
   "cell_type": "markdown",
   "id": "6f3e5cd8-95ce-430b-9856-71a933c47b8e",
   "metadata": {},
   "source": [
    "**Example:**\n",
    "\n",
    "Now a $2\\times 2$ matrix (left) and a $2\\times 3$ matrix (right) are multiplied. The operation is defined because again the dimensions align: the matrix on the left has the same number of columns (2) as the matrix on the right has rows. The output will be a $2\\times 3$ matrix, because there are three columns in the matrix on the right. The dot product used to calculate entry $2, 2$ of the result is highlighted: row two from the left is combined with column two on the right. The remaining five entries are calculated similarly.\n",
    "\n",
    "$$\n",
    "    \\begin{bmatrix}\n",
    "        2 & 1  \\\\\n",
    "        1 & 2\n",
    "    \\end{bmatrix}\\begin{bmatrix}\n",
    "        7 & \\hfill0 & 3\\\\\n",
    "        6 & -1 & 3\n",
    "    \\end{bmatrix} = \n",
    "    \\begin{bmatrix}\n",
    "        2 & 1 \\\\\n",
    "        \\textcolor{blue}{1} & \\textcolor{blue}{2}\n",
    "    \\end{bmatrix}\\begin{bmatrix}\n",
    "        7 & \\hfill\\textcolor{orange}{0} & 3 \\\\\n",
    "        6 & \\textcolor{orange}{-1} & 3 \\\\\n",
    "    \\end{bmatrix} =\n",
    "    \\begin{bmatrix}\n",
    "        &  & \\\\\n",
    "        & \\textcolor{blue}{1}\\cdot \\textcolor{orange}{0} + \\textcolor{blue}{2}\\cdot \\textcolor{orange}{(-1)} &\n",
    "    \\end{bmatrix} = \n",
    "    \\begin{bmatrix}\n",
    "        2\\cdot 7 + 1\\cdot 6 & 2\\cdot 0 + 1\\cdot (-1) & 2\\cdot 3 + 1\\cdot 3 \\\\\n",
    "        1\\cdot 7 + 2\\cdot 6 & \\textcolor{blue}{1}\\cdot \\textcolor{orange}{0} + \\textcolor{blue}{2}\\cdot \\textcolor{orange}{(-1)} & 1\\cdot 3 + 2\\cdot 3\n",
    "    \\end{bmatrix} = \n",
    "    \\begin{bmatrix}\n",
    "        14 + 6 & 0 - 1 & 6 + 3 \\\\\n",
    "        7 + 12 & 0 - 2 & 3 + 6\n",
    "    \\end{bmatrix} = \n",
    "    \\begin{bmatrix}\n",
    "        20 & -1 & 9 \\\\\n",
    "        19 & -2 & 9\n",
    "    \\end{bmatrix}.\n",
    "$$"
   ]
  },
  {
   "cell_type": "markdown",
   "id": "7c55c315-ffed-4af8-b96e-2a73a48f2376",
   "metadata": {},
   "source": [
    "**Example:**\n",
    "\n",
    "A matrix with only one row looks like (is) a row vector. Nevertheless the same multiplication rule applies. The multiplication is defined because the number of columns on the left (3) matches the number of rows on the right. The output is $1\\times 2$, because there is one row on the left and two columns on the right.\n",
    "\n",
    "$$\n",
    "    \\begin{bmatrix}\n",
    "        1 & 2 & 1 \n",
    "    \\end{bmatrix}\n",
    "    \\begin{bmatrix}\n",
    "        3 & 2 \\\\\n",
    "        4 & 0 \\\\\n",
    "        8 & 1\n",
    "    \\end{bmatrix} = \n",
    "    \\begin{bmatrix}\n",
    "        1\\cdot 3 + 2\\cdot 4 + 1\\cdot 8 & 1\\cdot 2 + 2\\cdot 0 + 1\\cdot 1\n",
    "    \\end{bmatrix} = \n",
    "    \\begin{bmatrix}\n",
    "        3 + 8 + 8 & 2 + 0 + 1\n",
    "    \\end{bmatrix} = \n",
    "    \\begin{bmatrix}\n",
    "        19 & 3\n",
    "    \\end{bmatrix}.\n",
    "$$\n"
   ]
  },
  {
   "cell_type": "markdown",
   "id": "f9478d91-968c-467f-a608-5482b9a2af23",
   "metadata": {},
   "source": [
    "```{admonition} Note\n",
    ":class: important \n",
    "A vector is just a matrix with a single column, and the definition given for matrix-matrix multiplication gives the same result when the matrix on the right is a vector.\n",
    "```"
   ]
  },
  {
   "cell_type": "markdown",
   "id": "3b9145b7-bccb-4c61-9ed1-89548db633e8",
   "metadata": {},
   "source": [
    "## Important Matrices"
   ]
  },
  {
   "cell_type": "markdown",
   "id": "cee74300-3049-4dee-97a4-bb138bffc25b",
   "metadata": {},
   "source": [
    "```{admonition} Definition\n",
    "The *identity matrix* of dimension $n$, denoted $I$, is the $n\\times n$ square matrix with 1's on the main diagonal and zeros everywhere else.\n",
    "\n",
    "The *zero matrix* of dimension $n$, denoted $0$, is the $n\\times n$ square matrix consisting only of zeros.\n",
    "```"
   ]
  },
  {
   "cell_type": "markdown",
   "id": "7eab67ca-5d0c-41b5-904a-755bd7f8b059",
   "metadata": {},
   "source": [
    "**Example:** Below is the six-dimensional identity matrix:\n",
    "\n",
    "$$\n",
    "    I = \\begin{bmatrix}\n",
    "        1 & 0 & 0 & 0 & 0 & 0 \\\\\n",
    "        0 & 1 & 0 & 0 & 0 & 0 \\\\\n",
    "        0 & 0 & 1 & 0 & 0 & 0 \\\\\n",
    "        0 & 0 & 0 & 1 & 0 & 0 \\\\\n",
    "        0 & 0 & 0 & 0 & 1 & 0 \\\\\n",
    "        0 & 0 & 0 & 0 & 0 & 1 \n",
    "        \\end{bmatrix}.\n",
    "$$"
   ]
  },
  {
   "cell_type": "markdown",
   "id": "0cdd4c18-d7c4-45a0-beda-8138318cac35",
   "metadata": {},
   "source": [
    "With both of these special matrices, the dimension is usually not specified by simply inferred based on the context. These matrices have the properties that:\n",
    "- $IA = AI = A$ for any $A$ such that $IA$ and $AI$ are defined,\n",
    "- $0A = A0 = 0$ for any $A$ such that $0A$ and $A0$ are defined, and\n",
    "- $0 + A = A + 0 = A$ for any $A$ such that $0 + A$ and $A + 0$ are defined. "
   ]
  },
  {
   "cell_type": "markdown",
   "id": "ea38def5-158d-4d65-a368-65c81b1d08e2",
   "metadata": {},
   "source": [
    "Note that the first property above implies that $I\\mathbf{v} = \\mathbf{v}$ for any vector $\\mathbf{v}$ such that the multiplication is defined. It is a worthwhile exercise to make up such a vector $\\mathbf{v}$ with six components and work out the multiplication with the six-dimensional $I$ above to confirm this fact."
   ]
  },
  {
   "cell_type": "code",
   "execution_count": null,
   "id": "969cf7f8-c521-4189-af19-24df0a0a3cd5",
   "metadata": {},
   "outputs": [],
   "source": []
  }
 ],
 "metadata": {
  "kernelspec": {
   "display_name": "Python 3 (ipykernel)",
   "language": "python",
   "name": "python3"
  },
  "language_info": {
   "codemirror_mode": {
    "name": "ipython",
    "version": 3
   },
   "file_extension": ".py",
   "mimetype": "text/x-python",
   "name": "python",
   "nbconvert_exporter": "python",
   "pygments_lexer": "ipython3",
   "version": "3.13.5"
  }
 },
 "nbformat": 4,
 "nbformat_minor": 5
}
